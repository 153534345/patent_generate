{
 "cells": [
  {
   "cell_type": "code",
   "execution_count": 1,
   "id": "25b2c2f4",
   "metadata": {},
   "outputs": [],
   "source": [
    "import re\n",
    "def remove_html_tags(text):\n",
    "    pattern1 = r'<.*?>'\n",
    "    pattern2 = r'\\[.*?\\]'\n",
    "    pattern3 = r'\\(.*?\\)'\n",
    "    pattern4 = r'（.*?）'\n",
    "    text = re.sub(pattern1, '', text, flags=re.DOTALL | re.IGNORECASE)\n",
    "    text = re.sub(pattern2, '', text, flags=re.DOTALL | re.IGNORECASE)\n",
    "    text = re.sub(pattern3, '', text, flags=re.DOTALL | re.IGNORECASE)\n",
    "    text = re.sub(pattern4, '', text, flags=re.DOTALL | re.IGNORECASE)\n",
    "    return text"
   ]
  },
  {
   "cell_type": "code",
   "execution_count": 2,
   "id": "a221d233",
   "metadata": {},
   "outputs": [],
   "source": [
    "import os\n",
    "items = [i* 1000 for i in range(1, 11)]\n",
    "for i in items:\n",
    "    path = 'D:/patentdata/E/zhuanli_E_' + str(i) + '/'\n",
    "    os.makedirs(path)"
   ]
  },
  {
   "cell_type": "code",
   "execution_count": 3,
   "id": "3f67ffdb",
   "metadata": {},
   "outputs": [],
   "source": [
    "import os\n",
    "paths = [i * 1000 for i in range(1, 11)]\n",
    "for item in paths: \n",
    "    path = \"zhuanli_E_\"+ str(item) + \"/\"\n",
    "    files= os.listdir(path)\n",
    "    for file in files:\n",
    "        file_name = path + file\n",
    "        with open(file_name, 'r', encoding='utf-8') as f:\n",
    "            data = f.read()\n",
    "            cleaned_data = remove_html_tags(data)\n",
    "        new_path = 'D:/patentdata/E/' + file_name\n",
    "        with open(new_path, 'w', encoding='utf-8') as f:\n",
    "            f.write(cleaned_data)"
   ]
  }
 ],
 "metadata": {
  "kernelspec": {
   "display_name": "pyscrapy",
   "language": "python",
   "name": "pyscrapy"
  },
  "language_info": {
   "codemirror_mode": {
    "name": "ipython",
    "version": 3
   },
   "file_extension": ".py",
   "mimetype": "text/x-python",
   "name": "python",
   "nbconvert_exporter": "python",
   "pygments_lexer": "ipython3",
   "version": "3.8.19"
  },
  "varInspector": {
   "cols": {
    "lenName": 16,
    "lenType": 16,
    "lenVar": 40
   },
   "kernels_config": {
    "python": {
     "delete_cmd_postfix": "",
     "delete_cmd_prefix": "del ",
     "library": "var_list.py",
     "varRefreshCmd": "print(var_dic_list())"
    },
    "r": {
     "delete_cmd_postfix": ") ",
     "delete_cmd_prefix": "rm(",
     "library": "var_list.r",
     "varRefreshCmd": "cat(var_dic_list()) "
    }
   },
   "types_to_exclude": [
    "module",
    "function",
    "builtin_function_or_method",
    "instance",
    "_Feature"
   ],
   "window_display": false
  }
 },
 "nbformat": 4,
 "nbformat_minor": 5
}
